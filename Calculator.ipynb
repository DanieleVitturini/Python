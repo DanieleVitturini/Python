{
 "cells": [
  {
   "cell_type": "code",
   "execution_count": null,
   "metadata": {},
   "outputs": [
    {
     "name": "stdout",
     "output_type": "stream",
     "text": [
      "What operation you want to do?\n",
      "type: 'add' or 'sub' or 'molt' or 'div'\n",
      "Write 'quit' to end the program\n",
      ": sub\n",
      "Insert first number:\n",
      ": 4\n",
      "Insert second number:\n",
      ": 3\n",
      "result: 1.0\n",
      "What operation you want to do?\n",
      "type: 'add' or 'sub' or 'molt' or 'div'\n",
      "Write 'quit' to end the program\n",
      ": add\n",
      "Insert first number:\n",
      ": 4\n",
      "Insert second number:\n",
      ": 5\n",
      "result: 9.0\n",
      "What operation you want to do?\n",
      "type: 'add' or 'sub' or 'molt' or 'div'\n",
      "Write 'quit' to end the program\n",
      ": molt\n",
      "Insert first number:\n",
      ": 65\n",
      "Insert second number:\n",
      ": 76\n",
      "result: 4940.0\n",
      "What operation you want to do?\n",
      "type: 'add' or 'sub' or 'molt' or 'div'\n",
      "Write 'quit' to end the program\n",
      ": QUIT\n",
      "Wrong operation input\n",
      "What operation you want to do?\n",
      "type: 'add' or 'sub' or 'molt' or 'div'\n",
      "Write 'quit' to end the program\n"
     ]
    }
   ],
   "source": [
    "while True:\n",
    "    print(\"What operation you want to do?\")\n",
    "    print(\"type: 'add' or 'sub' or 'molt' or 'div'\")\n",
    "    print(\"Write 'quit' to end the program\")\n",
    "    operation_input = input(': ')\n",
    "    if operation_input==\"quit\":\n",
    "        break\n",
    "    if operation_input!=\"add\" and operation_input!=\"sub\" and operation_input!=\"molt\" and operation_input!=\"div\":\n",
    "        print(\"Wrong operation input\")\n",
    "        continue\n",
    "\n",
    "    print(\"Insert first number:\")\n",
    "    first_input = float(input(': '))\n",
    "    print(\"Insert second number:\")\n",
    "    second_input = float(input(': '))\n",
    "    \n",
    "    x=first_input\n",
    "    y=second_input\n",
    "    \n",
    "    \n",
    "    if operation_input==\"add\":\n",
    "        print(\"result: \"+str(x+y))    \n",
    "    elif operation_input==\"sub\":\n",
    "        print(\"result: \"+str(x-y))\n",
    "    elif operation_input==\"molt\":\n",
    "        print(\"result: \"+str(x*y))\n",
    "    elif operation_input==\"div\":\n",
    "        print(\"result: \"+str(x/y))"
   ]
  },
  {
   "cell_type": "code",
   "execution_count": null,
   "metadata": {},
   "outputs": [],
   "source": []
  }
 ],
 "metadata": {
  "kernelspec": {
   "display_name": "Python 3",
   "language": "python",
   "name": "python3"
  },
  "language_info": {
   "codemirror_mode": {
    "name": "ipython",
    "version": 3
   },
   "file_extension": ".py",
   "mimetype": "text/x-python",
   "name": "python",
   "nbconvert_exporter": "python",
   "pygments_lexer": "ipython3",
   "version": "3.7.3"
  }
 },
 "nbformat": 4,
 "nbformat_minor": 2
}
